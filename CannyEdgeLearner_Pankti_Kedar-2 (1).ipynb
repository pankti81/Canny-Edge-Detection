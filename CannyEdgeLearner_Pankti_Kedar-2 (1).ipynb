{
  "nbformat": 4,
  "nbformat_minor": 0,
  "metadata": {
    "colab": {
      "name": "CannyEdgeLearner-Pankti-Kedar.ipynb",
      "provenance": [],
      "collapsed_sections": []
    },
    "kernelspec": {
      "name": "python_defaultSpec_1599855464224",
      "display_name": "Python 3.6.10 64-bit ('test': conda)"
    }
  },
  "cells": [
    {
      "cell_type": "code",
      "metadata": {
        "id": "s75COHwfwBst",
        "colab": {
          "base_uri": "https://localhost:8080/"
        },
        "outputId": "99e1afa5-464e-4f10-a25e-2bfb06ac7c61"
      },
      "source": [
        "from google.colab import drive\n",
        "drive.mount('/content/drive', force_remount=True)\n"
      ],
      "execution_count": 239,
      "outputs": [
        {
          "output_type": "stream",
          "name": "stdout",
          "text": [
            "Mounted at /content/drive\n"
          ]
        }
      ]
    },
    {
      "cell_type": "code",
      "metadata": {
        "id": "H64nI2NeHDcF",
        "colab": {
          "base_uri": "https://localhost:8080/",
          "height": 895
        },
        "outputId": "cfc89b74-69ef-41ee-e00b-7a3240175972"
      },
      "source": [
        "cd /content/drive/My Drive/CIS581-CannyEdge"
      ],
      "execution_count": 240,
      "outputs": [
        {
          "output_type": "stream",
          "name": "stderr",
          "text": [
            "ERROR:root:Internal Python error in the inspect module.\n",
            "Below is the traceback from this internal error.\n",
            "\n"
          ]
        },
        {
          "output_type": "stream",
          "name": "stdout",
          "text": [
            "Traceback (most recent call last):\n",
            "  File \"/usr/local/lib/python3.7/dist-packages/IPython/core/interactiveshell.py\", line 2882, in run_code\n",
            "    exec(code_obj, self.user_global_ns, self.user_ns)\n",
            "  File \"<ipython-input-240-deaf7c898f58>\", line 1, in <module>\n",
            "    get_ipython().magic('cd /content/drive/My Drive/CIS581-CannyEdge')\n",
            "  File \"/usr/local/lib/python3.7/dist-packages/IPython/core/interactiveshell.py\", line 2160, in magic\n",
            "    return self.run_line_magic(magic_name, magic_arg_s)\n",
            "  File \"/usr/local/lib/python3.7/dist-packages/IPython/core/interactiveshell.py\", line 2081, in run_line_magic\n",
            "    result = fn(*args,**kwargs)\n",
            "  File \"<decorator-gen-84>\", line 2, in cd\n",
            "  File \"/usr/local/lib/python3.7/dist-packages/IPython/core/magic.py\", line 188, in <lambda>\n",
            "    call = lambda f, *a, **k: f(*a, **k)\n",
            "  File \"/usr/local/lib/python3.7/dist-packages/IPython/core/magics/osm.py\", line 288, in cd\n",
            "    oldcwd = py3compat.getcwd()\n",
            "OSError: [Errno 107] Transport endpoint is not connected\n",
            "\n",
            "During handling of the above exception, another exception occurred:\n",
            "\n",
            "Traceback (most recent call last):\n",
            "  File \"/usr/local/lib/python3.7/dist-packages/IPython/core/interactiveshell.py\", line 1823, in showtraceback\n",
            "    stb = value._render_traceback_()\n",
            "AttributeError: 'OSError' object has no attribute '_render_traceback_'\n",
            "\n",
            "During handling of the above exception, another exception occurred:\n",
            "\n",
            "Traceback (most recent call last):\n",
            "  File \"/usr/local/lib/python3.7/dist-packages/IPython/core/ultratb.py\", line 1132, in get_records\n",
            "    return _fixed_getinnerframes(etb, number_of_lines_of_context, tb_offset)\n",
            "  File \"/usr/local/lib/python3.7/dist-packages/IPython/core/ultratb.py\", line 313, in wrapped\n",
            "    return f(*args, **kwargs)\n",
            "  File \"/usr/local/lib/python3.7/dist-packages/IPython/core/ultratb.py\", line 358, in _fixed_getinnerframes\n",
            "    records = fix_frame_records_filenames(inspect.getinnerframes(etb, context))\n",
            "  File \"/usr/lib/python3.7/inspect.py\", line 1502, in getinnerframes\n",
            "    frameinfo = (tb.tb_frame,) + getframeinfo(tb, context)\n",
            "  File \"/usr/lib/python3.7/inspect.py\", line 1460, in getframeinfo\n",
            "    filename = getsourcefile(frame) or getfile(frame)\n",
            "  File \"/usr/lib/python3.7/inspect.py\", line 696, in getsourcefile\n",
            "    if getattr(getmodule(object, filename), '__loader__', None) is not None:\n",
            "  File \"/usr/lib/python3.7/inspect.py\", line 725, in getmodule\n",
            "    file = getabsfile(object, _filename)\n",
            "  File \"/usr/lib/python3.7/inspect.py\", line 709, in getabsfile\n",
            "    return os.path.normcase(os.path.abspath(_filename))\n",
            "  File \"/usr/lib/python3.7/posixpath.py\", line 383, in abspath\n",
            "    cwd = os.getcwd()\n",
            "OSError: [Errno 107] Transport endpoint is not connected\n"
          ]
        },
        {
          "output_type": "error",
          "ename": "OSError",
          "evalue": "ignored",
          "traceback": [
            "\u001b[0;31m---------------------------------------------------------------------------\u001b[0m"
          ]
        }
      ]
    },
    {
      "cell_type": "code",
      "metadata": {
        "id": "j50h6IggxS8c"
      },
      "source": [
        "import numpy as np\n",
        "import matplotlib.pyplot as plt\n",
        "import os\n",
        "import sys\n",
        "from scipy import signal\n",
        "from PIL import Image\n",
        "import argparse\n",
        "\n",
        "# Copy the path of the folder that contains this notebook using the file navigation on the left:\n",
        "# Ex. /content/drive/My\\ Drive/CIS 581-Online/Canny Edge Project/Learner Code and Images/Code\n",
        "sys.path.append('/content/drive/MyDrive/CIS581-CannyEdge')\n",
        "\n",
        "# import functions\n",
        "from helpers import interp2"
      ],
      "execution_count": null,
      "outputs": []
    },
    {
      "cell_type": "markdown",
      "metadata": {
        "id": "zsBskMJWDUq2"
      },
      "source": [
        "# Tests and Visualization"
      ]
    },
    {
      "cell_type": "code",
      "metadata": {
        "id": "FbKS15NcC9y4"
      },
      "source": [
        "def Test_script(I, E):\n",
        "    test_pass = True\n",
        "\n",
        "    # E should be 2D matrix\n",
        "    if E.ndim != 2:\n",
        "      print('ERROR: Incorrect Edge map dimension! \\n')\n",
        "      print(E.ndim)\n",
        "      test_pass = False\n",
        "    # end if\n",
        "\n",
        "    # E should have same size with original image\n",
        "    nr_I, nc_I = I.shape[0], I.shape[1]\n",
        "    nr_E, nc_E = E.shape[0], E.shape[1]\n",
        "\n",
        "    if nr_I != nr_E or nc_I != nc_E:\n",
        "      print('ERROR: Edge map size has changed during operations! \\n')\n",
        "      test_pass = False\n",
        "    # end if\n",
        "\n",
        "    # E should be a binary matrix so that element should be either 1 or 0\n",
        "    numEle = E.size\n",
        "    numOnes, numZeros = E[E == 1].size, E[E == 0].size\n",
        "\n",
        "    if numEle != (numOnes + numZeros):\n",
        "      print('ERROR: Edge map is not binary one! \\n')\n",
        "      test_pass = False\n",
        "    # end if\n",
        "\n",
        "    if test_pass:\n",
        "      print('Shape Test Passed! \\n')\n",
        "    else:\n",
        "      print('Shape Test Failed! \\n')\n",
        "\n",
        "    return test_pass"
      ],
      "execution_count": null,
      "outputs": []
    },
    {
      "cell_type": "code",
      "metadata": {
        "id": "Jr36vVBcDR1x"
      },
      "source": [
        "'''\n",
        "  Derivatives visualzation function\n",
        "'''\n",
        "def visDerivatives(I_gray, Mag, Magx, Magy):\n",
        "    fig, (Ax0, Ax1, Ax2, Ax3) = plt.subplots(1, 4, figsize = (20, 8))\n",
        "\n",
        "    Ax0.imshow(Mag, cmap='gray', interpolation='nearest')\n",
        "    Ax0.axis('off')\n",
        "    Ax0.set_title('Gradient Magnitude')\n",
        "\n",
        "    Ax1.imshow(Magx, cmap='gray', interpolation='nearest')\n",
        "    Ax1.axis('off')\n",
        "    Ax1.set_title('Gradient Magnitude (x axis)')\n",
        "    \n",
        "    Ax2.imshow(Magy, cmap='gray', interpolation='nearest')\n",
        "    Ax2.axis('off')\n",
        "    Ax2.set_title('Gradient Magnitude (y axis)')\n",
        "\n",
        "    # plot gradient orientation\n",
        "    Mag_vec = Mag.transpose().reshape(1, Mag.shape[0] * Mag.shape[1]) \n",
        "    hist, bin_edge = np.histogram(Mag_vec.transpose(), 100)\n",
        "\n",
        "    ind_array = np.array(np.where( (np.cumsum(hist).astype(float) / hist.sum()) < 0.95))\n",
        "    thr = bin_edge[ind_array[0, -1]]\n",
        "\n",
        "    ind_remove = np.where(np.abs(Mag) < thr)\n",
        "    Magx[ind_remove] = 0\n",
        "    Magy[ind_remove] = 0\n",
        "\n",
        "    X, Y = np.meshgrid(np.arange(0, Mag.shape[1], 1), np.arange(0, Mag.shape[0], 1))\n",
        "    Ori = np.arctan2(Magy, Magx)\n",
        "    ori = Ax3.imshow(Ori, cmap='hsv')\n",
        "    Ax3.axis('off')\n",
        "    Ax3.set_title('Gradient Orientation')\n",
        "    fig.colorbar(ori, ax=Ax3, )\n",
        "    \n",
        "\n",
        "\n",
        "'''\n",
        "  Edge detection result visualization function\n",
        "'''\n",
        "def visCannyEdge(Im_raw, M, E):\n",
        "    # plot image\n",
        "    fig, (ax0, ax1, ax2) = plt.subplots(1, 3, figsize = (12, 12))\n",
        "\n",
        "    # plot original image\n",
        "    ax0.imshow(Im_raw)\n",
        "    ax0.axis(\"off\")\n",
        "    ax0.set_title('Raw image')\n",
        "\n",
        "    # plot edge detection result\n",
        "    ax1.imshow(M, cmap='gray', interpolation='nearest')\n",
        "    ax1.axis(\"off\")\n",
        "    ax1.set_title('Non-Max Suppression Result')\n",
        "\n",
        "    # plot original image\n",
        "    ax2.imshow(E, cmap='gray', interpolation='nearest')\n",
        "    ax2.axis(\"off\") \n",
        "    ax2.set_title('Canny Edge Detection')"
      ],
      "execution_count": null,
      "outputs": []
    },
    {
      "cell_type": "markdown",
      "metadata": {
        "id": "j1mvOzd8DiHq"
      },
      "source": [
        "# Functions"
      ]
    },
    {
      "cell_type": "code",
      "metadata": {
        "id": "Ioibc-KxDzAn"
      },
      "source": [
        "'''\n",
        "  Convert RGB image to gray one manually\n",
        "  - Input I_rgb: 3-dimensional rgb image\n",
        "  - Output I_gray: 2-dimensional grayscale image\n",
        "'''\n",
        "def rgb2gray(I_rgb):\n",
        "    r, g, b = I_rgb[:, :, 0], I_rgb[:, :, 1], I_rgb[:, :, 2]\n",
        "    I_gray = 0.2989 * r + 0.5870 * g + 0.1140 * b\n",
        "    return I_gray"
      ],
      "execution_count": null,
      "outputs": []
    },
    {
      "cell_type": "code",
      "metadata": {
        "id": "aRtRdQ06xV7R"
      },
      "source": [
        "def findDerivatives(I_gray):\n",
        "    '''\n",
        "    File clarification:\n",
        "        Compute gradient information of the input grayscale image\n",
        "        - Input I_gray: H x W matrix as image\n",
        "        - Output Mag: H x W matrix represents the magnitude of derivatives\n",
        "        - Output Magx: H x W matrix represents the magnitude of derivatives along x-axis\n",
        "        - Output Magy: H x W matrix represents the magnitude of derivatives along y-axis\n",
        "        - Output Ori: H x W matrix represents the orientation of derivatives\n",
        "    '''\n",
        "    # TODO: complete function\n",
        "  \n",
        "    #Gaussian filter\n",
        "    G = np.array([[2, 4, 5, 4, 2],\n",
        "                 [4, 9, 12, 9 ,4],\n",
        "                 [5, 12, 15, 12, 5],\n",
        "                 [4, 9, 12, 9, 4],\n",
        "                 [2, 4, 5 ,4 ,2]])\n",
        "    \n",
        "    G = G/159\n",
        "    dx = np.array([[1, 0, -1],\n",
        "                  [2, 0, -2],\n",
        "                  [1, 0, -1]])\n",
        "    \n",
        "    dy = np.array([[1, 2, 1],\n",
        "                   [0, 0, 0],\n",
        "                   [-1, -2, -1]])\n",
        "    \n",
        "    #Convolve Gaussian and derivatiive filter\n",
        "\n",
        "    Gx = signal.convolve2d(G, dx, 'same')\n",
        "    Gy = signal.convolve2d(G, dy, 'same')\n",
        "\n",
        "\n",
        "    #compute directional magnitude\n",
        "\n",
        "    Magx = signal.convolve2d(I_gray, Gx, 'same')\n",
        "    Magy = signal.convolve2d(I_gray, Gy, 'same')\n",
        "\n",
        "    #compute total magnitude and angle of gradient\n",
        "\n",
        "    Mag = np.sqrt(np.square(Magx) + np.square(Magy))\n",
        "    Ori = np.arctan2(Magy, Magx)\n",
        "\n",
        "    return Mag, Magx, Magy, Ori"
      ],
      "execution_count": null,
      "outputs": []
    },
    {
      "cell_type": "code",
      "metadata": {
        "id": "gbg5yK-qrTe4"
      },
      "source": [
        "## Test ##\n",
        "\n",
        "# you may need to change the path to I1.jpg under Images folder\n",
        "I = plt.imread('Images/I1.jpg')\n",
        "Mag, Magx, Magy, Ori = findDerivatives(I)\n",
        "print(Ori)\n",
        "assert np.allclose(Mag, np.load('Mag.npy'))\n",
        "assert np.allclose(Magx, np.load('Magx.npy'))\n",
        "assert np.allclose(Magy, np.load('Magy.npy'))\n",
        "assert np.allclose(Ori, np.load('Ori.npy'))"
      ],
      "execution_count": null,
      "outputs": []
    },
    {
      "cell_type": "code",
      "metadata": {
        "id": "k2qPmbsUzTg2"
      },
      "source": [
        "def nonMaxSup(Mag, Ori):\n",
        "    '''\n",
        "    File clarification:\n",
        "        Find local maximum edge pixel using NMS along the line of the gradient\n",
        "        - Input Mag: H x W matrix represents the magnitude of derivatives\n",
        "        - Input Ori: H x W matrix represents the orientation of derivatives\n",
        "        - Output M: H x W binary matrix represents the edge map after non-maximum suppression\n",
        "    '''\n",
        "    nc, nr = Mag.shape[1], Mag.shape[0]\n",
        "\n",
        "    Ori = np.pad(Ori, 1, mode = 'constant')\n",
        "\n",
        "    # getting neighbor in the oritention direction\n",
        "    x, y = np.meshgrid(np.arange(nc+2),np.arange(nr+2))\n",
        "    x_next, y_next = x + np.cos(Ori), y + np.sin(Ori)\n",
        "    x_prev, y_prev = x - np.cos(Ori), y - np.sin(Ori)\n",
        "\n",
        "    # use interp2 to get pixel values of the neighbors\n",
        "    neighbor1 = interp2(np.pad(Mag, 1, mode = 'constant'), x_next, y_next) \n",
        "\n",
        "    # getting neighbor in the opposite of the orientation direction\n",
        "    neighbor2 = interp2(np.pad(Mag, 1, mode = 'constant'), x_prev, y_prev)\n",
        "    # print(neighbor1)\n",
        "\n",
        "    # print(x_prev.shape)\n",
        "    # print(x_prev[0])\n",
        "\n",
        "    # # convert edge cases to zero    \n",
        "    # neighbor1[y,x] = np.where(np.logical_or(x_next[y,x]>(nc-1),y_next[y,x]>(nr-1)),0,neighbor1[y,x])\n",
        "    # # neighbor1[y,x] = np.where(np.logical_or(x_next[y,x]<0,y_next[y,x]<0),0,neighbor1[y,x])\n",
        "\n",
        "    # neighbor2[y,x] = np.where(np.logical_or(x_prev[y,x]>(nc-1),y_prev[y,x]>(nr-1)),0,neighbor2[y,x])\n",
        "    # # neighbor2[y,x] = np.where(np.logical_or(x_prev[y,x]<0,y_prev[y,x]<0),0,neighbor2[y,x])\n",
        "    # plt.imshow(Mag)\n",
        "    \n",
        "\n",
        "    # perform NMS\n",
        "    M = (Mag>= neighbor1[1:-1,1:-1]) & (Mag>= neighbor2[1:-1,1:-1]) \n",
        "    \"\"\"M must be a binary array\"\"\"\n",
        "    # print(M)\n",
        "    return M\n"
      ],
      "execution_count": 243,
      "outputs": []
    },
    {
      "cell_type": "code",
      "metadata": {
        "id": "5ISK63GarTe6",
        "colab": {
          "base_uri": "https://localhost:8080/",
          "height": 269
        },
        "outputId": "69755021-a542-49b7-84b9-e7489fc93534"
      },
      "source": [
        "\n",
        "## Test ##\n",
        "Mag = np.array([[0, 2, 12, 16],\n",
        "                [4, 9, 11, 8],\n",
        "                [7, 17, 12, 9],\n",
        "                [0, 19, 21, 17]])\n",
        "Ori = np.array([[np.pi/2, np.pi/4, 0, np.pi/4],\n",
        "                [np.pi/4, np.pi/4, np.pi/4, np.pi/2],\n",
        "                [np.pi/4, 0, np.pi/2, np.pi/4],\n",
        "                [np.pi/2, np.pi/4, np.pi/2, np.pi/4]])\n",
        "res = np.array([[False, False, False,  True],\n",
        "       [False, False,  True, False],\n",
        "       [False,  True, False, False],\n",
        "       [False,  True,  True,  True]])\n",
        "M = nonMaxSup(Mag, Ori)\n",
        "plt.imshow(M, cmap='gray')\n",
        "assert M.dtype == bool\n",
        "assert M.shape == Mag.shape\n",
        "assert np.allclose(M, res)"
      ],
      "execution_count": 244,
      "outputs": [
        {
          "output_type": "display_data",
          "data": {
            "image/png": "[encoded data removed]",
            "text/plain": [
              "<Figure size 432x288 with 1 Axes>"
            ]
          },
          "metadata": {
            "needs_background": "light"
          }
        }
      ]
    },
    {
      "cell_type": "code",
      "metadata": {
        "id": "0LaeUWFdrTe7"
      },
      "source": [
        "def edgeLink(M, Mag, Ori, low, high):\n",
        "    '''\n",
        "    File clarification:\n",
        "        Use hysteresis to link edges based on high and low magnitude thresholds\n",
        "        - Input M: H x W logical map after non-max suppression\n",
        "        - Input Mag: H x W matrix represents the magnitude of gradient\n",
        "        - Input Ori: H x W matrix represents the orientation of gradient\n",
        "        - Input low, high: low and high thresholds \n",
        "        - Output E: H x W binary matrix represents the final canny edge detection map\n",
        "    '''\n",
        "    \n",
        "\n",
        "    nc, nr = Mag.shape[1], Mag.shape[0]\n",
        "    x, y = np.meshgrid(np.arange(nc+2),np.arange(nr+2))\n",
        "\n",
        "    # initial EdgeMap with strong edges\n",
        "    strong = np.logical_and(M, (Mag > high))\n",
        "\n",
        "    # Identify uncertain edges\n",
        "    weak = np.logical_and(M,(np.logical_and(Mag>low, Mag<high)))\n",
        "\n",
        "    # compute the edge direction from Ori\n",
        "    edgeDir = np.pad((Ori + (np.pi/2)), 1, mode = 'constant')\n",
        "\n",
        "    # find neighbors in the edge direction\n",
        "    x_next, y_next = x + np.cos(edgeDir), y + np.sin(edgeDir)\n",
        "    x_prev, y_prev = x - np.cos(edgeDir), y - np.sin(edgeDir)\n",
        "\n",
        "    while True:\n",
        "\n",
        "      neighbor1 = interp2(np.pad(strong, 1, mode = 'constant'), x_next, y_next)\n",
        "      neighbor2 = interp2(np.pad(strong, 1, mode = 'constant'), x_prev, y_prev)\n",
        "\n",
        "      nearStrongPoints = np.logical_or((neighbor1[1:-1, 1:-1] * weak >= 0.5), (neighbor2[1:-1, 1:-1] * weak >= 0.5))\n",
        "      strong = np.logical_or(strong, nearStrongPoints)\n",
        "      weak = np.logical_xor(weak, nearStrongPoints)\n",
        "\n",
        "      if not nearStrongPoints.any():\n",
        "        break\n",
        "        \"\"\"Make uncertain edge a strong edge to deal with weak-weak-stron case and remove from uncertain map \"\"\"\n",
        "\n",
        "    return strong"
      ],
      "execution_count": null,
      "outputs": []
    },
    {
      "cell_type": "code",
      "metadata": {
        "id": "SQtO5BOhrTe8"
      },
      "source": [
        "## Test ##\n",
        "M = np.array([[True, False, True,  True],\n",
        "              [False, True,  True, True],\n",
        "              [True,  True, False, False],\n",
        "              [False,  True,  True,  True]])\n",
        "Mag = np.array([[12, 9, 14, 16],\n",
        "                [4, 11, 40, 18],\n",
        "                [13, 12, 30, 15],\n",
        "                [28, 15, 21, 8]])\n",
        "Ori = np.array([[np.pi/2, np.pi/4, 0, np.pi/4],\n",
        "                [np.pi/4, np.pi/4, np.pi/4, np.pi/2],\n",
        "                [np.pi/4, 0, np.pi/2, np.pi/4],\n",
        "                [np.pi/2, np.pi/4, np.pi/2, np.pi/4]])\n",
        "res = np.array([[False, False,  True,  True],\n",
        "       [False,  True,  True,  True],\n",
        "       [ True,  True, False, False],\n",
        "       [False, False,  True, False]])\n",
        "low, high = 10, 20\n",
        "E = edgeLink(M, Mag, Ori, low, high)\n",
        "# print(E)\n",
        "assert E.dtype == bool\n",
        "assert E.shape == Mag.shape\n",
        "assert np.allclose(E, res)"
      ],
      "execution_count": null,
      "outputs": []
    },
    {
      "cell_type": "code",
      "metadata": {
        "id": "dfbWzVkLzdZd"
      },
      "source": [
        "def cannyEdge(I, low, high):\n",
        "    # convert RGB image to gray color space\n",
        "    im_gray = rgb2gray(I)\n",
        "\n",
        "    Mag, Magx, Magy, Ori = findDerivatives(im_gray)\n",
        "    M = nonMaxSup(Mag, Ori)\n",
        "    E = edgeLink(M, Mag, Ori, low, high)\n",
        "\n",
        "    # only when test passed that can show all results\n",
        "    if Test_script(im_gray, E):\n",
        "        # visualization results\n",
        "        visDerivatives(im_gray, Mag, Magx, Magy)\n",
        "        visCannyEdge(I, M, E)\n",
        "\n",
        "        plt.show()\n",
        "\n",
        "    return E"
      ],
      "execution_count": null,
      "outputs": []
    },
    {
      "cell_type": "markdown",
      "metadata": {
        "id": "bf8dWX6crTe-"
      },
      "source": [
        "## Simple image test cases\n",
        "First, let's try to detect edges in two simple images.\n",
        "\n",
        "![checkerboard.jpg](Test_Images/rotated_checkerboard.jpg)\n",
        "\n",
        "For the rotated checkerboard, We should be able to get edges in both directions.\n",
        "\n",
        "![checkerboard_res.jpg](Test_Images/rotated_checkerboard_Result.png)\n",
        "\n",
        "![coins.png](Test_Images/coins.png) \n",
        "\n",
        "For coins, we should be able to detect circles.\n",
        "\n",
        "![coins.png](Test_Images/coins_Result.png) "
      ]
    },
    {
      "cell_type": "code",
      "metadata": {
        "id": "dy3grTT_rTe_"
      },
      "source": [
        "# tuning threshold for simple test images\n",
        "image_folder = \"Images\"\n",
        "save_folder = \"Results\" # need to create this folder in the drive\n",
        "filename='189080.jpg' # TODO: change image name \n",
        "I = np.array(Image.open(os.path.join(image_folder, filename)).convert('RGB'))\n",
        "low, high = 20,30\n",
        "E = cannyEdge(I, low, high)\n",
        "pil_image = Image.fromarray(E.astype(np.uint8) * 255).convert('L')\n",
        "# check the result in the folder\n",
        "pil_image.save(os.path.join(save_folder, \"{}_Result.png\".format(filename.split(\".\")[0])))"
      ],
      "execution_count": null,
      "outputs": []
    },
    {
      "cell_type": "markdown",
      "metadata": {
        "id": "W8TsFJ3Rpoui"
      },
      "source": [
        "## Tune the threshold for each images under \"Image\" folder"
      ]
    },
    {
      "cell_type": "code",
      "metadata": {
        "id": "qAyBXQx7IhQ7"
      },
      "source": [
        " # list all image names\n",
        " os.listdir('Images')"
      ],
      "execution_count": null,
      "outputs": []
    },
    {
      "cell_type": "code",
      "metadata": {
        "id": "hgVbhYcqIBwi"
      },
      "source": [
        "# tuning threshold for a single image\n",
        "image_folder = \"Images\"\n",
        "save_folder = \"Results\" # need to create this folder in the drive\n",
        "filename='yosemite.jpg' # TODO: change image name \n",
        "I = np.array(Image.open(os.path.join(image_folder, filename)).convert('RGB'))\n",
        "low, high = 0, 100\n",
        "E = cannyEdge(I, low, high)\n",
        "pil_image = Image.fromarray(E.astype(np.uint8) * 255).convert('L')\n",
        "# check the result in the folder\n",
        "pil_image.save(os.path.join(save_folder, \"{}_Result.png\".format(filename.split(\".\")[0])))"
      ],
      "execution_count": null,
      "outputs": []
    },
    {
      "cell_type": "markdown",
      "metadata": {
        "id": "qPwoj3VJDnj7"
      },
      "source": [
        "# Fill in all tuned threshold to generate edge detection results\n"
      ]
    },
    {
      "cell_type": "code",
      "metadata": {
        "id": "h_MAspFDzpaN"
      },
      "source": [
        "# keep results for all images\n",
        "image_folder = \"Images\"\n",
        "save_folder = \"Results\"\n",
        "# fill in the threshold (low, high) you have tuned in the cell above \n",
        "thresh_dict = {'118035.jpg': (0, 5),\n",
        "                '135069.jpg': (0, 5),\n",
        "                '16068.jpg': (0, 55),\n",
        "                '189080.jpg': (0, 30),\n",
        "                '201080.jpg': (0, 30),\n",
        "                '21077.jpg': (0, 40),\n",
        "                '22013.jpg': (0, 45),\n",
        "                '3096.jpg': (0, 15),\n",
        "                '48017.jpg': (0, 35),\n",
        "                '55067.jpg': (0, 7),\n",
        "                '86000.jpg': (20,60),\n",
        "                'I1.jpg': (0, 5)}\n",
        "# generate results one by one\n",
        "for filename in os.listdir(image_folder):\n",
        "    # read in image \n",
        "    im_path = os.path.join(image_folder, filename)\n",
        "    I = np.array(Image.open(im_path).convert('RGB'))\n",
        "\n",
        "    low, high = thresh_dict[filename]\n",
        "    E = cannyEdge(I, low, high)\n",
        "\n",
        "    pil_image = Image.fromarray(E.astype(np.uint8) * 255).convert('L')\n",
        "\n",
        "    pil_image.save(os.path.join(save_folder, \"{}_Result.png\".format(filename.split(\".\")[0])))"
      ],
      "execution_count": null,
      "outputs": []
    },
    {
      "cell_type": "code",
      "metadata": {
        "id": "ZaDPw4eHO_no"
      },
      "source": [
        ""
      ],
      "execution_count": null,
      "outputs": []
    }
  ]
}